{
 "cells": [
  {
   "cell_type": "code",
   "execution_count": 1,
   "metadata": {},
   "outputs": [],
   "source": [
    "from flask import Flask\n",
    "import json\n",
    "import re\n",
    "\n",
    "app = Flask(__name__)"
   ]
  },
  {
   "cell_type": "code",
   "execution_count": 14,
   "metadata": {},
   "outputs": [
    {
     "name": "stdout",
     "output_type": "stream",
     "text": [
      "ID 1 int\n",
      "ID 1 p\n",
      "o token não existe na linguagem 1 =\n"
     ]
    }
   ],
   "source": [
    "test = [['ID', 1, 'int'], ['ID', 1, 'p'], ['o token não existe na linguagem', 1, '=']]\n",
    "[print(*x) for x in test][0]"
   ]
  },
  {
   "cell_type": "code",
   "execution_count": 6,
   "metadata": {},
   "outputs": [],
   "source": [
    "@app.route(\"/\")\n",
    "def hello_world():\n",
    "    return \"<p>Hello, World!</p>\""
   ]
  },
  {
   "cell_type": "code",
   "execution_count": 7,
   "metadata": {},
   "outputs": [
    {
     "data": {
      "text/plain": [
       "{'lexemas': '{\\n  \"program\": \"PROGRAM\",\\n  \"[a-zA-Z]([a-zA-Z0-9_])*\": \"ID\",\\n  \";\": \"PCOMMA\",\\n  \"begin\": \"BEGIN\",\\n  \"end\": \"END\",\\n  \"var\": \"VAR\",\\n  \":\": \"TDOT\",\\n  \",\": \"COMMA\",\\n  \"boolean\": \"BOOL\",\\n  \"integer\": \"INT\",\\n  \"real\": \"FLOAT\",\\n  \"string\": \"STR\",\\n  \":=\": \"ATTR\",\\n  \"if\": \"IF\",\\n  \"then\": \"THEN\",\\n  \"while\": \"WHILE\",\\n  \"do\": \"DO\",\\n  \"print\": \"PRINT\",\\n  \"read\": \"READ\",\\n  \"==\": \"EQ\",\\n  \"!=\": \"NE\",\\n  \"<\": \"LT\",\\n  \"<=\": \"LE\",\\n  \">\": \"GT\",\\n  \">=\": \"GE\",\\n  \"+\": \"PLUS\",\\n  \"-\": \"MINUS\",\\n  \"*\": \"MULT\",\\n  \"/\": \"DIV\",\\n  \"[0-9]([0-9])*\": \"INTEGER_CONST\",\\n  \"[0-9]([0-9])*.[0-9]([0-9])*\": \"REAL_CONST\",\\n  \"true\": \"TRUE\",\\n  \"false\": \"FALSE\",\\n  \"(\": \"LBRACKET\",\\n  \")\": \"RBRACKET\",\\n  \"\\\\\"[a-zA-Z0-9_,;?# ]*\\\\\"\": \"STR_CONST\"\\n}'}"
      ]
     },
     "execution_count": 7,
     "metadata": {},
     "output_type": "execute_result"
    }
   ],
   "source": [
    "def inject_exemas():\n",
    "    with open('./lexemas.json') as jfile:\n",
    "        parsed = json.load(jfile)\n",
    "    lexemas = json.dumps(parsed, indent=2)\n",
    "    return {'lexemas': lexemas}\n",
    "\n",
    "inject_exemas()"
   ]
  },
  {
   "cell_type": "code",
   "execution_count": 32,
   "metadata": {},
   "outputs": [],
   "source": [
    "LOOKUPS = {\n",
    "    \"(str)|(int)|(float)|(bool)\": \"RESERVED\",\n",
    "    \"[A-Za-z]\": \"IDENTIFIER\",\n",
    "    \"(={1,2})|(!=?)|(<=?)|(>=?)|(\\+{1,2})|(-{1,2})\": \"OPERATOR\",\n",
    "    \"\\(\": \"LBRACKET\",\n",
    "    \"\\)\": \"RBRACKET\",\n",
    "    \"(\\.\\d+)$|(\\d+\\.\\d+)$\": \"FLOAT\",\n",
    "    \"(\\d+)\": \"INTEGER\",\n",
    "    \"\\;\": \"END_STATEMENT\",\n",
    "    \"\\n\": \"END_LINE\"\n",
    "}\n",
    "\n",
    "DFA = {\n",
    "    0:{'IDENTIFIER':1},\n",
    "    1:{'RESERVED':0},\n",
    "    2:{'OPERATOR':0},\n",
    "    3:{'INTEGER':4},\n",
    "    4:{'FLOAT':0},\n",
    "    5:{'END_STATEMENT':0}\n",
    "}"
   ]
  },
  {
   "cell_type": "code",
   "execution_count": 1,
   "metadata": {},
   "outputs": [
    {
     "data": {
      "text/plain": [
       "'int result = 100;\\n'"
      ]
     },
     "execution_count": 1,
     "metadata": {},
     "output_type": "execute_result"
    }
   ],
   "source": [
    "# Source Code\n",
    "sc = 'int result = 100;\\n'\n",
    "sc"
   ]
  },
  {
   "cell_type": "code",
   "execution_count": null,
   "metadata": {},
   "outputs": [],
   "source": [
    "initial = 0\n",
    "accepting = {5}\n",
    "indefinition = False\n",
    "\n",
    "def accepts(transitions,s):\n",
    "    state = initial\n",
    "    for c in s:\n",
    "        state = transitions[state][c]\n",
    "    return state in accepting\n",
    "\n",
    "for index, c in enumerate(sc):\n",
    "    path += '{}({})\\u2192'.format(str(state), c)\n",
    "    state = DFA[state][c]\n",
    "        q = state\n",
    "    except KeyError:\n",
    "        cursor = sc[:index] + '[' + c +']' + sc[index+1:]\n",
    "        indefinition = True\n",
    "        state = False\n",
    "        break"
   ]
  },
  {
   "cell_type": "code",
   "execution_count": 59,
   "metadata": {},
   "outputs": [
    {
     "name": "stdout",
     "output_type": "stream",
     "text": [
      "[('DATATYPE', 'int'), ('IDENTIFIER', 'result'), ('OPERATOR', '='), ('INTEGER', '100'), ('END_STATEMENT', ';'), ('END_LINE', '\\n')]\n"
     ]
    }
   ],
   "source": [
    "tokens = []\n",
    "\n",
    "def lookup(token):\n",
    "    for key, value in LOOKUPS.items():\n",
    "        if re.match(key, token):\n",
    "            return value\n",
    "    return None\n",
    "\n",
    "for word in source_code:\n",
    "    token = lookup(word)\n",
    "    tokens.append((token, word))\n",
    "\n",
    "print(tokens)"
   ]
  },
  {
   "cell_type": "code",
   "execution_count": null,
   "metadata": {},
   "outputs": [],
   "source": []
  }
 ],
 "metadata": {
  "interpreter": {
   "hash": "cdf808de68927c414fbd3d47493149fe49755a2ab232d6b5cc3d4f8b067a8926"
  },
  "kernelspec": {
   "display_name": "Python 3.10.2 ('.venv': venv)",
   "language": "python",
   "name": "python3"
  },
  "language_info": {
   "codemirror_mode": {
    "name": "ipython",
    "version": 3
   },
   "file_extension": ".py",
   "mimetype": "text/x-python",
   "name": "python",
   "nbconvert_exporter": "python",
   "pygments_lexer": "ipython3",
   "version": "3.10.2"
  },
  "orig_nbformat": 4
 },
 "nbformat": 4,
 "nbformat_minor": 2
}
