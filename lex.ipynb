{
 "cells": [
  {
   "cell_type": "code",
   "execution_count": 2,
   "metadata": {},
   "outputs": [],
   "source": [
    "import re\n",
    "import json"
   ]
  },
  {
   "cell_type": "code",
   "execution_count": 4,
   "metadata": {},
   "outputs": [],
   "source": [
    "with open('lexemas.json') as f:\n",
    "    lexemas = json.load(f)"
   ]
  },
  {
   "cell_type": "code",
   "execution_count": 32,
   "metadata": {},
   "outputs": [],
   "source": [
    "DFA = {\n",
    "    0:{'IDENTIFIER':1},\n",
    "    1:{'RESERVED':0},\n",
    "    2:{'OPERATOR':0},\n",
    "    3:{'INTEGER':4},\n",
    "    4:{'FLOAT':0},\n",
    "    5:{'END_STATEMENT':0}\n",
    "}"
   ]
  },
  {
   "cell_type": "code",
   "execution_count": 1,
   "metadata": {},
   "outputs": [
    {
     "data": {
      "text/plain": [
       "'int result = 100;\\n'"
      ]
     },
     "execution_count": 1,
     "metadata": {},
     "output_type": "execute_result"
    }
   ],
   "source": [
    "# Source Code\n",
    "sc = 'int result = 100;\\n'\n",
    "sc"
   ]
  },
  {
   "cell_type": "code",
   "execution_count": null,
   "metadata": {},
   "outputs": [],
   "source": [
    "initial = 0\n",
    "accepting = {5}\n",
    "\n",
    "def lookup(token):\n",
    "    for key, value in LOOKUPS.items():\n",
    "        if re.match(key, token):\n",
    "            return value\n",
    "    return None\n",
    "\n",
    "def accepts(token):\n",
    "    state = initial\n",
    "    for c in token:\n",
    "        state = DFA[state][c]\n",
    "    return state in accepting\n",
    "\n",
    "for index, c in enumerate(sc):\n",
    "    path += '{}({})\\u2192'.format(str(state), c)\n",
    "    state = DFA[state][c]\n",
    "        q = state\n",
    "    except KeyError:\n",
    "        cursor = sc[:index] + '[' + c +']' + sc[index+1:]\n",
    "        indefinition = True\n",
    "        state = False\n",
    "        break"
   ]
  },
  {
   "cell_type": "code",
   "execution_count": 59,
   "metadata": {},
   "outputs": [
    {
     "name": "stdout",
     "output_type": "stream",
     "text": [
      "[('DATATYPE', 'int'), ('IDENTIFIER', 'result'), ('OPERATOR', '='), ('INTEGER', '100'), ('END_STATEMENT', ';'), ('END_LINE', '\\n')]\n"
     ]
    }
   ],
   "source": [
    "tokens = []\n",
    "\n",
    "\n",
    "\n",
    "for word in source_code:\n",
    "    token = lookup(word)\n",
    "    tokens.append((token, word))\n",
    "\n",
    "print(tokens)"
   ]
  },
  {
   "cell_type": "code",
   "execution_count": null,
   "metadata": {},
   "outputs": [],
   "source": []
  }
 ],
 "metadata": {
  "interpreter": {
   "hash": "cdf808de68927c414fbd3d47493149fe49755a2ab232d6b5cc3d4f8b067a8926"
  },
  "kernelspec": {
   "display_name": "Python 3.10.2 ('.venv': venv)",
   "language": "python",
   "name": "python3"
  },
  "language_info": {
   "codemirror_mode": {
    "name": "ipython",
    "version": 3
   },
   "file_extension": ".py",
   "mimetype": "text/x-python",
   "name": "python",
   "nbconvert_exporter": "python",
   "pygments_lexer": "ipython3",
   "version": "3.10.2"
  },
  "orig_nbformat": 4
 },
 "nbformat": 4,
 "nbformat_minor": 2
}
