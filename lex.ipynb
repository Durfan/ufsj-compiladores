{
 "cells": [
  {
   "cell_type": "code",
   "execution_count": 1,
   "metadata": {},
   "outputs": [],
   "source": [
    "import re"
   ]
  },
  {
   "cell_type": "code",
   "execution_count": 32,
   "metadata": {},
   "outputs": [],
   "source": [
    "LOOKUPS = {\n",
    "    \"(str)|(int)|(float)|(bool)\": \"DATATYPE\",\n",
    "    \"[A-Za-z]\": \"IDENTIFIER\",\n",
    "    \"(={1,2})|(!=?)|(<=?)|(>=?)|(\\+{1,2})|(-{1,2})\": \"OPERATOR\",\n",
    "    \"\\(\": \"LBRACKET\",\n",
    "    \"\\)\": \"RBRACKET\",\n",
    "    \"(\\.\\d+)$|(\\d+\\.\\d+)$\": \"FLOAT\",\n",
    "    \"(\\d+)\": \"INTEGER\",\n",
    "    \"\\;\": \"END_STATEMENT\",\n",
    "    \"\\n\": \"END_LINE\"\n",
    "}"
   ]
  },
  {
   "cell_type": "code",
   "execution_count": 58,
   "metadata": {},
   "outputs": [
    {
     "data": {
      "text/plain": [
       "['int', 'result', '=', '100', ';', '\\n']"
      ]
     },
     "execution_count": 58,
     "metadata": {},
     "output_type": "execute_result"
    }
   ],
   "source": [
    "source_code = 'int result = 100;\\n'\n",
    "source_code = re.split('[ *]|(\\d+\\.?\\d+)|(\\d+)|(\\({1}|\\){1})|(,{1}|;{1})|\\t', source_code)\n",
    "source_code = list(filter(None, source_code))\n",
    "source_code"
   ]
  },
  {
   "cell_type": "code",
   "execution_count": 59,
   "metadata": {},
   "outputs": [
    {
     "name": "stdout",
     "output_type": "stream",
     "text": [
      "[('DATATYPE', 'int'), ('IDENTIFIER', 'result'), ('OPERATOR', '='), ('INTEGER', '100'), ('END_STATEMENT', ';'), ('END_LINE', '\\n')]\n"
     ]
    }
   ],
   "source": [
    "tokens = []\n",
    "\n",
    "def lookup(token):\n",
    "    for key, value in LOOKUPS.items():\n",
    "        if re.match(key, token):\n",
    "            return value\n",
    "    return None\n",
    "\n",
    "for word in source_code:\n",
    "    token = lookup(word)\n",
    "    tokens.append((token, word))\n",
    "\n",
    "print(tokens)"
   ]
  },
  {
   "cell_type": "code",
   "execution_count": null,
   "metadata": {},
   "outputs": [],
   "source": []
  }
 ],
 "metadata": {
  "interpreter": {
   "hash": "cdf808de68927c414fbd3d47493149fe49755a2ab232d6b5cc3d4f8b067a8926"
  },
  "kernelspec": {
   "display_name": "Python 3.10.2 ('.venv': venv)",
   "language": "python",
   "name": "python3"
  },
  "language_info": {
   "codemirror_mode": {
    "name": "ipython",
    "version": 3
   },
   "file_extension": ".py",
   "mimetype": "text/x-python",
   "name": "python",
   "nbconvert_exporter": "python",
   "pygments_lexer": "ipython3",
   "version": "3.10.2"
  },
  "orig_nbformat": 4
 },
 "nbformat": 4,
 "nbformat_minor": 2
}
